{
 "cells": [
  {
   "cell_type": "markdown",
   "id": "f829d654-c08e-4fb6-a3e6-314143e006c7",
   "metadata": {},
   "source": [
    "## TASK 1"
   ]
  },
  {
   "cell_type": "code",
   "execution_count": 1,
   "id": "64e9448d-b0c3-49dd-8198-2bf2a5514957",
   "metadata": {},
   "outputs": [
    {
     "name": "stdout",
     "output_type": "stream",
     "text": [
      "My list: [1, 2, 3, 4, 5]\n",
      "My list after adding an element to the list: [1, 2, 3, 4, 5, 6]\n",
      "My list after removing an element from the list: [1, 2, 4, 5, 6]\n",
      "updated List: [10, 2, 4, 5, 6]\n"
     ]
    }
   ],
   "source": [
    "#Creating a list(collection of data and mutable)[]\n",
    "my_list = [1,2,3,4,5]\n",
    "print(\"My list:\",my_list)\n",
    "\n",
    "#adding an element to the list\n",
    "my_list.append(6)\n",
    "print(\"My list after adding an element to the list:\",my_list)\n",
    "#removing an element from the list\n",
    "my_list.remove(3)\n",
    "print(\"My list after removing an element from the list:\",my_list)\n",
    "#modifying an element in the list\n",
    "my_list[0] = 10\n",
    "\n",
    "print(\"updated List:\", my_list)"
   ]
  },
  {
   "cell_type": "code",
   "execution_count": 2,
   "id": "13ee6a6c-a611-433d-a146-c57eb609831e",
   "metadata": {},
   "outputs": [
    {
     "name": "stdout",
     "output_type": "stream",
     "text": [
      "My dictionary : {'name': 'john', 'age': 25, 'city': 'delhi'}\n",
      "My dictionary after adding new key value: {'name': 'john', 'age': 25, 'city': 'delhi', 'gender': 'male'}\n",
      "My dictionary after aremoving key value: {'name': 'john', 'city': 'delhi', 'gender': 'male'}\n",
      "updated dictionary: {'name': 'john', 'city': 'mumbai', 'gender': 'male'}\n"
     ]
    }
   ],
   "source": [
    "#creating a dictionary(key value and mutable){}\n",
    "my_dict = {'name': 'john' , 'age':25 , 'city': 'delhi'}\n",
    "print(\"My dictionary :\",my_dict)\n",
    "\n",
    "#adding \n",
    "my_dict['gender'] = 'male'\n",
    "print(\"My dictionary after adding new key value:\",my_dict)\n",
    "\n",
    "#removing\n",
    "del my_dict['age']\n",
    "print(\"My dictionary after aremoving key value:\",my_dict)\n",
    "\n",
    "#modifying\n",
    "my_dict['city'] = 'mumbai'\n",
    "\n",
    "print(\"updated dictionary:\" , my_dict)"
   ]
  },
  {
   "cell_type": "code",
   "execution_count": 3,
   "id": "260e613d-3bd7-45c4-8f3a-28aec317dcf1",
   "metadata": {},
   "outputs": [
    {
     "name": "stdout",
     "output_type": "stream",
     "text": [
      "My Set : {1, 2, 3, 4, 5}\n",
      "My set after adding an element : {1, 2, 3, 4, 5, 6}\n",
      "My set after removing element: {1, 2, 3, 5, 6}\n",
      "updated set: {2, 3, 5, 6, 10}\n"
     ]
    }
   ],
   "source": [
    "#creating a set \n",
    "my_set = {1,2,3,4,5}\n",
    "print(\"My Set :\",my_set)\n",
    "\n",
    "#adding\n",
    "my_set.add(6)\n",
    "print(\"My set after adding an element :\",my_set)\n",
    "\n",
    "#removing\n",
    "my_set.remove(4)\n",
    "print(\"My set after removing element:\",my_set)\n",
    "\n",
    "#modifying \n",
    "my_set.discard(1)\n",
    "my_set.add(10)\n",
    "\n",
    "print(\"updated set:\" , my_set)"
   ]
  },
  {
   "cell_type": "code",
   "execution_count": null,
   "id": "2277f604-38f9-4f9d-ac80-8eafa0922ce9",
   "metadata": {},
   "outputs": [],
   "source": []
  }
 ],
 "metadata": {
  "kernelspec": {
   "display_name": "Python 3 (ipykernel)",
   "language": "python",
   "name": "python3"
  },
  "language_info": {
   "codemirror_mode": {
    "name": "ipython",
    "version": 3
   },
   "file_extension": ".py",
   "mimetype": "text/x-python",
   "name": "python",
   "nbconvert_exporter": "python",
   "pygments_lexer": "ipython3",
   "version": "3.11.7"
  }
 },
 "nbformat": 4,
 "nbformat_minor": 5
}
